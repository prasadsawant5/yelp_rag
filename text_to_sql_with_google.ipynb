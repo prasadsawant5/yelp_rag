{
 "cells": [
  {
   "cell_type": "markdown",
   "metadata": {},
   "source": [
    "## This notebook will work on converting text to SQL queries that can be run on Yelp dataset using Google's Code Bison LLM"
   ]
  },
  {
   "cell_type": "markdown",
   "metadata": {},
   "source": [
    "### Install Dependencies"
   ]
  },
  {
   "cell_type": "code",
   "execution_count": 21,
   "metadata": {},
   "outputs": [
    {
     "name": "stdout",
     "output_type": "stream",
     "text": [
      "Note: you may need to restart the kernel to use updated packages.\n"
     ]
    }
   ],
   "source": [
    "%pip --quiet install langchain tqdm chromadb==0.3.29 psycopg2 google-cloud-aiplatform==1.38.0 jq faiss-gpu"
   ]
  },
  {
   "cell_type": "markdown",
   "metadata": {},
   "source": [
    "### Import Libraries"
   ]
  },
  {
   "cell_type": "code",
   "execution_count": 36,
   "metadata": {},
   "outputs": [],
   "source": [
    "from langchain.prompts.chat import SystemMessagePromptTemplate\n",
    "from langchain.prompts.chat import HumanMessagePromptTemplate\n",
    "from langchain.prompts.chat import ChatPromptTemplate\n",
    "from langchain.embeddings import VertexAIEmbeddings\n",
    "from langchain.document_loaders import JSONLoader\n",
    "from langchain.embeddings.base import Embeddings\n",
    "from langchain.chat_models import ChatVertexAI\n",
    "from langchain.vectorstores import FAISS\n",
    "from typing import List\n",
    "from tqdm import tqdm\n",
    "import chromadb\n",
    "import logging\n",
    "import json\n",
    "import os\n",
    "import psycopg2\n",
    "\n",
    "from config import *"
   ]
  },
  {
   "cell_type": "markdown",
   "metadata": {},
   "source": [
    "### Setup logging"
   ]
  },
  {
   "cell_type": "code",
   "execution_count": 6,
   "metadata": {},
   "outputs": [],
   "source": [
    "logger = logging.getLogger('langchain')\n",
    "logger.setLevel(logging.INFO)\n",
    "logger.addHandler(logging.StreamHandler())"
   ]
  },
  {
   "cell_type": "markdown",
   "metadata": {},
   "source": [
    "### Google Cloud Config"
   ]
  },
  {
   "cell_type": "code",
   "execution_count": 14,
   "metadata": {},
   "outputs": [],
   "source": [
    "SERVICE_ACCOUNT_KEY_PATH = 'llm-study-413709-40a30207144b.json'\n",
    "os.environ['GOOGLE_APPLICATION_CREDENTIALS'] = SERVICE_ACCOUNT_KEY_PATH\n",
    "\n",
    "PROJECT = 'llm-study-413709'\n",
    "LOCATION = 'us-central1'\n",
    "MODEL_NAME = 'codechat-bison'"
   ]
  },
  {
   "cell_type": "markdown",
   "metadata": {},
   "source": [
    "### Create LLM"
   ]
  },
  {
   "cell_type": "code",
   "execution_count": 32,
   "metadata": {},
   "outputs": [],
   "source": [
    "llm = ChatVertexAI(project=PROJECT, \n",
    "                   location=LOCATION, \n",
    "                   model_name=MODEL_NAME,\n",
    "                   temperature=0.0, \n",
    "                   max_output_tokens=2048)"
   ]
  },
  {
   "cell_type": "markdown",
   "metadata": {},
   "source": [
    "### Create custom embeddings class"
   ]
  },
  {
   "cell_type": "code",
   "execution_count": 16,
   "metadata": {},
   "outputs": [
    {
     "name": "stderr",
     "output_type": "stream",
     "text": [
      "Model_name will become a required arg for VertexAIEmbeddings starting from Feb-01-2024. Currently the default is set to textembedding-gecko@001\n"
     ]
    }
   ],
   "source": [
    "class MyVertexAIEmbeddings(VertexAIEmbeddings, Embeddings):\n",
    "    model_name = 'textembedding-gecko'\n",
    "    max_batch_size = 5\n",
    "    \n",
    "    def embed_segments(self, segments: List) -> List:\n",
    "        embeddings = []\n",
    "        for i in tqdm(range(0, len(segments), self.max_batch_size)):\n",
    "            batch = segments[i: i+self.max_batch_size]\n",
    "            embeddings.extend(self.client.get_embeddings(batch))\n",
    "        return [embedding.values for embedding in embeddings]\n",
    "    \n",
    "    def embed_query(self, query: str) -> List:\n",
    "        embeddings = self.client.get_embeddings([query])\n",
    "        return embeddings[0].values\n",
    "    \n",
    "embeddings = MyVertexAIEmbeddings()"
   ]
  },
  {
   "cell_type": "markdown",
   "metadata": {},
   "source": [
    "### Prepare schema documents"
   ]
  },
  {
   "cell_type": "code",
   "execution_count": 25,
   "metadata": {},
   "outputs": [
    {
     "name": "stdout",
     "output_type": "stream",
     "text": [
      "\n"
     ]
    },
    {
     "data": {
      "text/plain": [
       "[Document(page_content='{\"dataset_name\": \"yelp\", \"table_name\": \"businesses\", \"column_name\": \"business_id\", \"description\": \"A unique identifier assigned to each business.\", \"usage\": \"This ID helps in maintaining a distinct record for each business and acts as a primary key. It\\'s also used for referencing in other tables like reviews.\", \"data_type\": \"VARCHAR\"}', metadata={'source': '/home/prasad/Desktop/work/yelp_rag/schemas/columns.jsonl', 'seq_num': 1}),\n",
       " Document(page_content='{\"dataset_name\": \"yelp\", \"table_name\": \"businesses\", \"column_name\": \"name\", \"description\": \"The name of the business.\", \"usage\": \"This column provides users with the name of the business. It aids in branding and recognition.\", \"data_type\": \"TEXT\"}', metadata={'source': '/home/prasad/Desktop/work/yelp_rag/schemas/columns.jsonl', 'seq_num': 2}),\n",
       " Document(page_content='{\"dataset_name\": \"yelp\", \"table_name\": \"businesses\", \"column_name\": \"address\", \"description\": \"The address of the business.\", \"usage\": \"This column provides users with the street address of the business.\", \"data_type\": \"TEXT\"}', metadata={'source': '/home/prasad/Desktop/work/yelp_rag/schemas/columns.jsonl', 'seq_num': 3}),\n",
       " Document(page_content='{\"dataset_name\": \"yelp\", \"table_name\": \"businesses\", \"column_name\": \"city\", \"description\": \"The city in which the business is located.\", \"usage\": \"This column provides users the city in which the business is located.\", \"data_type\": \"TEXT\"}', metadata={'source': '/home/prasad/Desktop/work/yelp_rag/schemas/columns.jsonl', 'seq_num': 4}),\n",
       " Document(page_content='{\"dataset_name\": \"yelp\", \"table_name\": \"businesses\", \"column_name\": \"state\", \"description\": \"The state in which the business is located. This is a 2 character state code.\", \"usage\": \"This column can be used to retrieve businesses by a state\", \"data_type\": \"TEXT\"}', metadata={'source': '/home/prasad/Desktop/work/yelp_rag/schemas/columns.jsonl', 'seq_num': 5}),\n",
       " Document(page_content='{\"dataset_name\": \"yelp\", \"table_name\": \"businesses\", \"column_name\": \"postal_code\", \"description\": \"The postal code of the business.\", \"usage\": \"\", \"data_type\": \"TEXT\"}', metadata={'source': '/home/prasad/Desktop/work/yelp_rag/schemas/columns.jsonl', 'seq_num': 6}),\n",
       " Document(page_content='{\"dataset_name\": \"yelp\", \"table_name\": \"businesses\", \"column_name\": \"latitude\", \"description\": \"The latitude of the business.\", \"usage\": \"It can be used with longitude to get the GPS co-ordinates of the business\", \"data_type\": \"DOUBLE\"}', metadata={'source': '/home/prasad/Desktop/work/yelp_rag/schemas/columns.jsonl', 'seq_num': 7}),\n",
       " Document(page_content='{\"dataset_name\": \"yelp\", \"table_name\": \"businesses\", \"column_name\": \"longitude\", \"description\": \"The latitude of the business.\", \"usage\": \"It can be used with latitude to get the GPS co-ordinates of the business\", \"data_type\": \"DOUBLE\"}', metadata={'source': '/home/prasad/Desktop/work/yelp_rag/schemas/columns.jsonl', 'seq_num': 8}),\n",
       " Document(page_content='{\"dataset_name\": \"yelp\", \"table_name\": \"businesses\", \"column_name\": \"stars\", \"description\": \"The rating given by the customers, usually on a scale from 1 to 5.\", \"usage\": \"Used for calculating the average rating of businesses.\", \"data_type\": \"FLOAT\"}', metadata={'source': '/home/prasad/Desktop/work/yelp_rag/schemas/columns.jsonl', 'seq_num': 9}),\n",
       " Document(page_content='{\"dataset_name\": \"yelp\", \"table_name\": \"businesses\", \"column_name\": \"review_count\", \"description\": \"The number of reviews received by a business.\", \"usage\": \"It can be used to retrieve businesses based on the number of reviews posted.\", \"data_type\": \"INT\"}', metadata={'source': '/home/prasad/Desktop/work/yelp_rag/schemas/columns.jsonl', 'seq_num': 10}),\n",
       " Document(page_content='{\"dataset_name\": \"yelp\", \"table_name\": \"businesses\", \"column_name\": \"is_open\", \"description\": \"Determines whether the business is open or close. A value of true determines the business is open and false otherwise.\", \"usage\": \"Can be used to filter out open businesses from closed.\", \"data_type\": \"BOOLEAN\"}', metadata={'source': '/home/prasad/Desktop/work/yelp_rag/schemas/columns.jsonl', 'seq_num': 11}),\n",
       " Document(page_content='{\"dataset_name\": \"yelp\", \"table_name\": \"businesses\", \"column_name\": \"categories\", \"description\": \"An array of strings of business categories. A few examples of categories - Mexican, Oil Change Stations, Furniture Store\", \"usage\": \"Can be used to retrieve businesses belonging to certain categories or businesses that offer certain services.\", \"data_type\": \"TEXT[]\"}', metadata={'source': '/home/prasad/Desktop/work/yelp_rag/schemas/columns.jsonl', 'seq_num': 12}),\n",
       " Document(page_content='{\"dataset_name\": \"yelp\", \"table_name\": \"businesses\", \"column_name\": \"monday_hours\", \"description\": \"Business hours on Mondays. A value of null means the business is closed every week on this day.\", \"usage\": \"Used to determine when the business opens and closes on Mondays.\", \"data_type\": \"TEXT\"}', metadata={'source': '/home/prasad/Desktop/work/yelp_rag/schemas/columns.jsonl', 'seq_num': 13}),\n",
       " Document(page_content='{\"dataset_name\": \"yelp\", \"table_name\": \"businesses\", \"column_name\": \"tuesday_hours\", \"description\": \"Business hours on Tuesdays. A value of null means the business is closed every week on this day.\", \"usage\": \"Used to determine when the business opens and closes on Tuesdays.\", \"data_type\": \"TEXT\"}', metadata={'source': '/home/prasad/Desktop/work/yelp_rag/schemas/columns.jsonl', 'seq_num': 14}),\n",
       " Document(page_content='{\"dataset_name\": \"yelp\", \"table_name\": \"businesses\", \"column_name\": \"wednesday_hours\", \"description\": \"Business hours on Wednesdays. A value of null means the business is closed every week on this day.\", \"usage\": \"Used to determine when the business opens and closes on Wednesdays.\", \"data_type\": \"TEXT\"}', metadata={'source': '/home/prasad/Desktop/work/yelp_rag/schemas/columns.jsonl', 'seq_num': 15}),\n",
       " Document(page_content='{\"dataset_name\": \"yelp\", \"table_name\": \"businesses\", \"column_name\": \"thursday_hours\", \"description\": \"Business hours on Thursdays. A value of null means the business is closed every week on this day.\", \"usage\": \"Used to determine when the business opens and closes on Thursdays.\", \"data_type\": \"TEXT\"}', metadata={'source': '/home/prasad/Desktop/work/yelp_rag/schemas/columns.jsonl', 'seq_num': 16}),\n",
       " Document(page_content='{\"dataset_name\": \"yelp\", \"table_name\": \"businesses\", \"column_name\": \"friday_hours\", \"description\": \"Business hours on Fridays. A value of null means the business is closed every week on this day.\", \"usage\": \"Used to determine when the business opens and closes on Fridays.\", \"data_type\": \"TEXT\"}', metadata={'source': '/home/prasad/Desktop/work/yelp_rag/schemas/columns.jsonl', 'seq_num': 17}),\n",
       " Document(page_content='{\"dataset_name\": \"yelp\", \"table_name\": \"businesses\", \"column_name\": \"saturday_hours\", \"description\": \"Business hours on Saturdays. A value of null means the business is closed every week on this day.\", \"usage\": \"Used to determine when the business opens and closes on Saturdays.\", \"data_type\": \"TEXT\"}', metadata={'source': '/home/prasad/Desktop/work/yelp_rag/schemas/columns.jsonl', 'seq_num': 18}),\n",
       " Document(page_content='{\"dataset_name\": \"yelp\", \"table_name\": \"businesses\", \"column_name\": \"sunday_hours\", \"description\": \"Business hours on Sundays. A value of null means the business is closed every week on this day.\", \"usage\": \"Used to determine when the business opens and closes on Sundays.\", \"data_type\": \"TEXT\"}', metadata={'source': '/home/prasad/Desktop/work/yelp_rag/schemas/columns.jsonl', 'seq_num': 19}),\n",
       " Document(page_content='{\"table_name\": \"users\", \"column_name\": \"user_id\", \"description\": \"Unique identifier for each user.\", \"usage\": \"Primary key for identifying users.\", \"data_type\": \"VARCHAR\"}', metadata={'source': '/home/prasad/Desktop/work/yelp_rag/schemas/columns.jsonl', 'seq_num': 20}),\n",
       " Document(page_content='{\"table_name\": \"users\", \"column_name\": \"name\", \"description\": \"Name of the user.\", \"usage\": \"Displaying the name of the user.\", \"data_type\": \"TEXT\"}', metadata={'source': '/home/prasad/Desktop/work/yelp_rag/schemas/columns.jsonl', 'seq_num': 21}),\n",
       " Document(page_content='{\"table_name\": \"users\", \"column_name\": \"review_count\", \"description\": \"Number of reviews written by the user.\", \"usage\": \"Displaying the review count of the user.\", \"data_type\": \"INT\"}', metadata={'source': '/home/prasad/Desktop/work/yelp_rag/schemas/columns.jsonl', 'seq_num': 22}),\n",
       " Document(page_content='{\"table_name\": \"users\", \"column_name\": \"yelping_since\", \"description\": \"Date since when the user has been active on Yelp.\", \"usage\": \"Showing the registration date of the user.\", \"data_type\": \"DATE\"}', metadata={'source': '/home/prasad/Desktop/work/yelp_rag/schemas/columns.jsonl', 'seq_num': 23}),\n",
       " Document(page_content='{\"table_name\": \"users\", \"column_name\": \"friends\", \"description\": \"List of friends of the user.\", \"usage\": \"Displaying the friends of the user.\", \"data_type\": \"TEXT[]\"}', metadata={'source': '/home/prasad/Desktop/work/yelp_rag/schemas/columns.jsonl', 'seq_num': 24}),\n",
       " Document(page_content='{\"table_name\": \"users\", \"column_name\": \"useful\", \"description\": \"Number of useful votes sent by the user.\", \"usage\": \"Displaying the number of useful votes sent.\", \"data_type\": \"INT\"}', metadata={'source': '/home/prasad/Desktop/work/yelp_rag/schemas/columns.jsonl', 'seq_num': 25}),\n",
       " Document(page_content='{\"table_name\": \"users\", \"column_name\": \"funny\", \"description\": \"Number of funny votes sent by the user.\", \"usage\": \"Displaying the number of funny votes sent.\", \"data_type\": \"INT\"}', metadata={'source': '/home/prasad/Desktop/work/yelp_rag/schemas/columns.jsonl', 'seq_num': 26}),\n",
       " Document(page_content='{\"table_name\": \"users\", \"column_name\": \"cool\", \"description\": \"Number of cool votes sent by the user.\", \"usage\": \"Displaying the number of cool votes sent.\", \"data_type\": \"INT\"}', metadata={'source': '/home/prasad/Desktop/work/yelp_rag/schemas/columns.jsonl', 'seq_num': 27}),\n",
       " Document(page_content='{\"table_name\": \"users\", \"column_name\": \"fans\", \"description\": \"Number of fans the user has.\", \"usage\": \"Displaying the number of fans the user has.\", \"data_type\": \"INT\"}', metadata={'source': '/home/prasad/Desktop/work/yelp_rag/schemas/columns.jsonl', 'seq_num': 28}),\n",
       " Document(page_content='{\"table_name\": \"users\", \"column_name\": \"elite\", \"description\": \"List of years the user has been an elite user.\", \"usage\": \"Displaying the years the user has been an elite user.\", \"data_type\": \"INT[]\"}', metadata={'source': '/home/prasad/Desktop/work/yelp_rag/schemas/columns.jsonl', 'seq_num': 29}),\n",
       " Document(page_content='{\"table_name\": \"users\", \"column_name\": \"average_stars\", \"description\": \"Average star rating for all the reviews posted by the user.\", \"usage\": \"Displaying the average star rating for all the reviews posted by the user.\", \"data_type\": \"FLOAT\"}', metadata={'source': '/home/prasad/Desktop/work/yelp_rag/schemas/columns.jsonl', 'seq_num': 30}),\n",
       " Document(page_content='{\"table_name\": \"users\", \"column_name\": \"compliment_hot\", \"description\": \"Number of \\'hot\\' compliments received by the user.\", \"usage\": \"Displaying the number of \\'hot\\' compliments received.\", \"data_type\": \"INT\"}', metadata={'source': '/home/prasad/Desktop/work/yelp_rag/schemas/columns.jsonl', 'seq_num': 31}),\n",
       " Document(page_content='{\"table_name\": \"users\", \"column_name\": \"compliment_more\", \"description\": \"Number of \\'more\\' compliments received by the user.\", \"usage\": \"Displaying the number of \\'more\\' compliments received.\", \"data_type\": \"INT\"}', metadata={'source': '/home/prasad/Desktop/work/yelp_rag/schemas/columns.jsonl', 'seq_num': 32}),\n",
       " Document(page_content='{\"table_name\": \"users\", \"column_name\": \"compliment_profile\", \"description\": \"Number of \\'profile\\' compliments received by the user.\", \"usage\": \"Displaying the number of \\'profile\\' compliments received.\", \"data_type\": \"INT\"}', metadata={'source': '/home/prasad/Desktop/work/yelp_rag/schemas/columns.jsonl', 'seq_num': 33}),\n",
       " Document(page_content='{\"table_name\": \"users\", \"column_name\": \"compliment_cute\", \"description\": \"Number of \\'cute\\' compliments received by the user.\", \"usage\": \"Displaying the number of \\'cute\\' compliments received.\", \"data_type\": \"INT\"}', metadata={'source': '/home/prasad/Desktop/work/yelp_rag/schemas/columns.jsonl', 'seq_num': 34}),\n",
       " Document(page_content='{\"table_name\": \"users\", \"column_name\": \"compliment_list\", \"description\": \"Number of \\'list\\' compliments received by the user.\", \"usage\": \"Displaying the number of \\'list\\' compliments received.\", \"data_type\": \"INT\"}', metadata={'source': '/home/prasad/Desktop/work/yelp_rag/schemas/columns.jsonl', 'seq_num': 35}),\n",
       " Document(page_content='{\"table_name\": \"users\", \"column_name\": \"compliment_note\", \"description\": \"Number of \\'note\\' compliments received by the user.\", \"usage\": \"Displaying the number of \\'note\\' compliments received.\", \"data_type\": \"INT\"}', metadata={'source': '/home/prasad/Desktop/work/yelp_rag/schemas/columns.jsonl', 'seq_num': 36}),\n",
       " Document(page_content='{\"table_name\": \"users\", \"column_name\": \"compliment_plain\", \"description\": \"Number of \\'plain\\' compliments received by the user.\", \"usage\": \"Displaying the number of \\'plain\\' compliments received.\", \"data_type\": \"INT\"}', metadata={'source': '/home/prasad/Desktop/work/yelp_rag/schemas/columns.jsonl', 'seq_num': 37}),\n",
       " Document(page_content='{\"table_name\": \"users\", \"column_name\": \"compliment_cool\", \"description\": \"Number of \\'cool\\' compliments received by the user.\", \"usage\": \"Displaying the number of \\'cool\\' compliments received.\", \"data_type\": \"INT\"}', metadata={'source': '/home/prasad/Desktop/work/yelp_rag/schemas/columns.jsonl', 'seq_num': 38}),\n",
       " Document(page_content='{\"table_name\": \"users\", \"column_name\": \"compliment_funny\", \"description\": \"Number of \\'funny\\' compliments received by the user.\", \"usage\": \"Displaying the number of \\'funny\\' compliments received.\", \"data_type\": \"INT\"}', metadata={'source': '/home/prasad/Desktop/work/yelp_rag/schemas/columns.jsonl', 'seq_num': 39}),\n",
       " Document(page_content='{\"table_name\": \"users\", \"column_name\": \"compliment_writer\", \"description\": \"Number of \\'writer\\' compliments received by the user.\", \"usage\": \"Displaying the number of \\'writer\\' compliments received.\", \"data_type\": \"INT\"}', metadata={'source': '/home/prasad/Desktop/work/yelp_rag/schemas/columns.jsonl', 'seq_num': 40}),\n",
       " Document(page_content='{\"table_name\": \"users\", \"column_name\": \"compliment_photos\", \"description\": \"Number of \\'photos\\' compliments received by the user.\", \"usage\": \"Displaying the number of \\'photos\\' compliments received.\", \"data_type\": \"INT\"}', metadata={'source': '/home/prasad/Desktop/work/yelp_rag/schemas/columns.jsonl', 'seq_num': 41}),\n",
       " Document(page_content='{\"table_name\": \"reviews\", \"column_name\": \"review_id\", \"description\": \"Unique identifier for each review.\", \"usage\": \"Primary key for identifying reviews.\", \"data_type\": \"VARCHAR\"}', metadata={'source': '/home/prasad/Desktop/work/yelp_rag/schemas/columns.jsonl', 'seq_num': 42}),\n",
       " Document(page_content='{\"table_name\": \"reviews\", \"column_name\": \"user_id\", \"description\": \"Identifier of the user who wrote the review.\", \"usage\": \"Linking reviews to the corresponding user. Used for aggregating reviews by user.\", \"data_type\": \"VARCHAR\"}', metadata={'source': '/home/prasad/Desktop/work/yelp_rag/schemas/columns.jsonl', 'seq_num': 43}),\n",
       " Document(page_content='{\"table_name\": \"reviews\", \"column_name\": \"business_id\", \"description\": \"Identifier of the business being reviewed.\", \"usage\": \"Linking reviews to the corresponding business. Used for aggregating reviews by business.\", \"data_type\": \"VARCHAR\"}', metadata={'source': '/home/prasad/Desktop/work/yelp_rag/schemas/columns.jsonl', 'seq_num': 44}),\n",
       " Document(page_content='{\"table_name\": \"reviews\", \"column_name\": \"stars\", \"description\": \"Rating given in the review, ranging from 1 to 5.\", \"usage\": \"Displaying the rating given in the review.\", \"data_type\": \"INT\"}', metadata={'source': '/home/prasad/Desktop/work/yelp_rag/schemas/columns.jsonl', 'seq_num': 45}),\n",
       " Document(page_content='{\"table_name\": \"reviews\", \"column_name\": \"date\", \"description\": \"Date when the review was posted.\", \"usage\": \"Displaying the posting date of the review.\", \"data_type\": \"DATE\"}', metadata={'source': '/home/prasad/Desktop/work/yelp_rag/schemas/columns.jsonl', 'seq_num': 46}),\n",
       " Document(page_content='{\"table_name\": \"reviews\", \"column_name\": \"text\", \"description\": \"Text content of the review.\", \"usage\": \"Displaying the text content of the review.\", \"data_type\": \"TEXT\"}', metadata={'source': '/home/prasad/Desktop/work/yelp_rag/schemas/columns.jsonl', 'seq_num': 47}),\n",
       " Document(page_content='{\"table_name\": \"reviews\", \"column_name\": \"useful\", \"description\": \"Number of users who found the review useful or the number of useful votes received by this review.\", \"usage\": \"Displaying the number of users who found the review useful.\", \"data_type\": \"INT\"}', metadata={'source': '/home/prasad/Desktop/work/yelp_rag/schemas/columns.jsonl', 'seq_num': 48}),\n",
       " Document(page_content='{\"table_name\": \"reviews\", \"column_name\": \"funny\", \"description\": \"Number of users who found the review funny or the number of funny votes received by this review.\", \"usage\": \"Displaying the number of users who found the review funny.\", \"data_type\": \"INT\"}', metadata={'source': '/home/prasad/Desktop/work/yelp_rag/schemas/columns.jsonl', 'seq_num': 49}),\n",
       " Document(page_content='{\"table_name\": \"reviews\", \"column_name\": \"cool\", \"description\": \"Number of users who found the review cool or the number of cool votes received by this review.\", \"usage\": \"Displaying the number of users who found the review cool.\", \"data_type\": \"INT\"}', metadata={'source': '/home/prasad/Desktop/work/yelp_rag/schemas/columns.jsonl', 'seq_num': 50}),\n",
       " Document(page_content='{\"table_name\": \"checkins\", \"column_name\": \"id\", \"description\": \"Auto-incrementing identifier for each check-in.\", \"usage\": \"Primary key for identifying check-ins.\", \"data_type\": \"SERIAL\"}', metadata={'source': '/home/prasad/Desktop/work/yelp_rag/schemas/columns.jsonl', 'seq_num': 51}),\n",
       " Document(page_content='{\"table_name\": \"checkins\", \"column_name\": \"business_id\", \"description\": \"Identifier of the business where the check-in occurred.\", \"usage\": \"Linking check-ins to the corresponding business.\", \"data_type\": \"VARCHAR\"}', metadata={'source': '/home/prasad/Desktop/work/yelp_rag/schemas/columns.jsonl', 'seq_num': 52}),\n",
       " Document(page_content='{\"table_name\": \"checkins\", \"column_name\": \"date\", \"description\": \"Array of timestamps representing the date and time of each check-in. The timestamp format is YYYY-MM-DD HH:mm:ss.\", \"usage\": \"Displaying the date and time of each check-in.\", \"data_type\": \"TIMESTAMP[]\"}', metadata={'source': '/home/prasad/Desktop/work/yelp_rag/schemas/columns.jsonl', 'seq_num': 53}),\n",
       " Document(page_content='{\"table_name\": \"tips\", \"column_name\": \"id\", \"description\": \"Auto-incrementing identifier for each tip.\", \"usage\": \"Primary key for identifying tips.\", \"data_type\": \"SERIAL\"}', metadata={'source': '/home/prasad/Desktop/work/yelp_rag/schemas/columns.jsonl', 'seq_num': 54}),\n",
       " Document(page_content='{\"table_name\": \"tips\", \"column_name\": \"text\", \"description\": \"Text content of the tip.\", \"usage\": \"Displaying the text content of the tip.\", \"data_type\": \"TEXT\"}', metadata={'source': '/home/prasad/Desktop/work/yelp_rag/schemas/columns.jsonl', 'seq_num': 55}),\n",
       " Document(page_content='{\"table_name\": \"tips\", \"column_name\": \"date\", \"description\": \"Date when the tip was posted.\", \"usage\": \"Displaying the posting date of the tip.\", \"data_type\": \"DATE\"}', metadata={'source': '/home/prasad/Desktop/work/yelp_rag/schemas/columns.jsonl', 'seq_num': 56}),\n",
       " Document(page_content='{\"table_name\": \"tips\", \"column_name\": \"compliment_count\", \"description\": \"Number of compliments received for the tip.\", \"usage\": \"Displaying the number of compliments received for the tip.\", \"data_type\": \"INT\"}', metadata={'source': '/home/prasad/Desktop/work/yelp_rag/schemas/columns.jsonl', 'seq_num': 57}),\n",
       " Document(page_content='{\"table_name\": \"tips\", \"column_name\": \"business_id\", \"description\": \"Identifier of the business for which the tip was posted.\", \"usage\": \"Linking tips to the corresponding business. Used for aggregating tips by business.\", \"data_type\": \"VARCHAR\"}', metadata={'source': '/home/prasad/Desktop/work/yelp_rag/schemas/columns.jsonl', 'seq_num': 58}),\n",
       " Document(page_content='{\"table_name\": \"tips\", \"column_name\": \"user_id\", \"description\": \"Identifier of the user who posted the tip.\", \"usage\": \"Linking tips to the corresponding user. Used for aggregating tips by user.\", \"data_type\": \"VARCHAR\"}', metadata={'source': '/home/prasad/Desktop/work/yelp_rag/schemas/columns.jsonl', 'seq_num': 59})]"
      ]
     },
     "execution_count": 25,
     "metadata": {},
     "output_type": "execute_result"
    }
   ],
   "source": [
    "tables_document = JSONLoader(file_path='./schemas/tables.jsonl', jq_schema='.', text_content=False, json_lines=True).load()\n",
    "columns_document = JSONLoader(file_path='./schemas/columns.jsonl', jq_schema='.', text_content=False, json_lines=True).load()\n",
    "tables_document\n",
    "print()\n",
    "columns_document"
   ]
  },
  {
   "cell_type": "markdown",
   "metadata": {},
   "source": [
    "### Helper method for retrieving matched tables from vector store"
   ]
  },
  {
   "cell_type": "code",
   "execution_count": 26,
   "metadata": {},
   "outputs": [],
   "source": [
    "def get_matched_tables(query: str) -> List:\n",
    "    db = FAISS.from_documents(documents=tables_document, embedding=embeddings)\n",
    "    retriever = db.as_retriever(search_type='mmr', search_kwargs={'k': 5, 'lambda_mult': 1})\n",
    "    matched_documents = retriever.get_relevant_documents(query=query)\n",
    "\n",
    "    return matched_documents"
   ]
  },
  {
   "cell_type": "markdown",
   "metadata": {},
   "source": [
    "### Helper method for retrieving matched columns from vector store"
   ]
  },
  {
   "cell_type": "code",
   "execution_count": 27,
   "metadata": {},
   "outputs": [],
   "source": [
    "def get_matched_columns(query: str) -> List:\n",
    "    db = FAISS.from_documents(documents=columns_document, embedding=embeddings)\n",
    "    search_kwargs = {\n",
    "        'k': 20\n",
    "    }\n",
    "\n",
    "    retriever = db.as_retriever(search_type='similarity', search_kwargs=search_kwargs)\n",
    "    matched_columns = retriever.get_relevant_documents(query=query)\n",
    "\n",
    "    return matched_columns"
   ]
  },
  {
   "cell_type": "markdown",
   "metadata": {},
   "source": [
    "### Text to SQL generation"
   ]
  },
  {
   "cell_type": "code",
   "execution_count": 42,
   "metadata": {},
   "outputs": [
    {
     "name": "stderr",
     "output_type": "stream",
     "text": [
      "SELECT\n",
      "    B.name AS business_name,\n",
      "    R.text AS review_text,\n",
      "    R.funny AS funny_votes\n",
      "FROM\n",
      "    reviews AS R\n",
      "JOIN\n",
      "    businesses AS B\n",
      "ON\n",
      "    R.business_id = B.business_id\n",
      "ORDER BY\n",
      "    R.funny DESC\n",
      "LIMIT 1;\n",
      "[('Broadway Oyster Bar', 'Went there for a birthday dinner and had reservations for 9 people (and 3 additional people showed up) after a grueling 2 hr wait and several drinks we finally got seated only to be told that because we had 3 extra people that we would have to split our party up and they would have to wait for a table! The manager was unwilling to work with us and so we took our party of 12 very hungry ad upset people to another Soulard Restaurant (he-hem) right down the street and had a FABULOUS dinner with EXCEPTIONAL CUSTOMER SERVICE! Like my brother in law said, if he ran his business like BroadwayOyster ran theirs then he would be out of business ! I agree with him that it is our fault as a society for allowing this behavior to be accepted and to allow sub par customer service. That was my FIRST and LAST time at BOB for matter of sheer principle only. No matter how good their food may be, there are too many other great restaurants in The Lou to choose from that would have handled this situation much differently.  #missedopportunities\\n~~~~~~~~~~~~~~~~~~~~~~~~~~~~~~~~~\\nRegarding to Broadway Oyster owner :\\nThanks John Johnson for giving social media a perfect example of EXACTLY what I am talking about. You clearly underestimate the power of exceptional customer service as well as the impact each customer satisfied or not, can make on a business. While I could rebuttal all your inaccuracies from your very soured response I ask myself, why? However, I will say this one thing. The couple who \"stayed behind\" as you said did no such thing. She was actually the first one to suggest we just leave but they had already ordered their food so instead of sticking your restaurant with the cost of the food they waited for their order and took it to go and met the rest of our party of 12 (not 15 as you previously mentioned) just a few minutes later for her Moms birthday dinner. The rest of your inaccuracies are really not even worth debating. I cant help to think what someone like Jon Taffer host of Bar Rescue would think of all this. Hopefully, something like this is will never be a concern.', 792)]\n"
     ]
    }
   ],
   "source": [
    "messages = []\n",
    "template = \"You are a SQL master expert capable of writing complex SQL query in Postgres.\"\n",
    "system_message_prompt = SystemMessagePromptTemplate.from_template(template)\n",
    "messages.append(system_message_prompt)\n",
    "\n",
    "human_template = \"\"\"Given the following inputs:\n",
    "USER_QUERY:\n",
    "--\n",
    "{query}\n",
    "--\n",
    "MATCHED_SCHEMA: \n",
    "--\n",
    "{matched_schema}\n",
    "--\n",
    "Please construct a SQL query using the MATCHED_SCHEMA and the USER_QUERY provided above. \n",
    "\n",
    "IMPORTANT: Use ONLY the column names (column_name) mentioned in MATCHED_SCHEMA. DO NOT USE any other column names outside of this. \n",
    "IMPORTANT: Associate column_name mentioned in MATCHED_SCHEMA only to the table_name specified under MATCHED_SCHEMA.\n",
    "NOTE: Use SQL 'AS' statement to assign a new name temporarily to a table column or even a table wherever needed. \n",
    "\"\"\"\n",
    "human_message = HumanMessagePromptTemplate.from_template(human_template)\n",
    "messages.append(human_message)\n",
    "\n",
    "chat_prompt = ChatPromptTemplate.from_messages(messages)\n",
    "\n",
    "user_question = 'Find me a business with the funniest review and show me the review as well.'\n",
    "matched_columns = get_matched_columns(user_question)\n",
    "\n",
    "request = chat_prompt.format_prompt(query=user_question,\n",
    "    matched_schema=matched_columns).to_messages()\n",
    "\n",
    "response = llm(request)\n",
    "query = '\\n'.join(response.content.strip().split('\\n')[1:-1])\n",
    "logger.info(query)\n",
    "\n",
    "with psycopg2.connect(f'dbname={DATABASE_NAME} user={USERNAME} password={PASSWORD}') as conn:\n",
    "    with conn.cursor() as cursor:\n",
    "        cursor.execute(query)\n",
    "        records = cursor.fetchall()\n",
    "        logger.info(records)"
   ]
  },
  {
   "cell_type": "code",
   "execution_count": null,
   "metadata": {},
   "outputs": [],
   "source": []
  }
 ],
 "metadata": {
  "kernelspec": {
   "display_name": "Python 3",
   "language": "python",
   "name": "python3"
  },
  "language_info": {
   "codemirror_mode": {
    "name": "ipython",
    "version": 3
   },
   "file_extension": ".py",
   "mimetype": "text/x-python",
   "name": "python",
   "nbconvert_exporter": "python",
   "pygments_lexer": "ipython3",
   "version": "3.8.10"
  }
 },
 "nbformat": 4,
 "nbformat_minor": 2
}
